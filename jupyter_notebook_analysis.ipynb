{
 "cells": [
  {
   "cell_type": "code",
   "execution_count": 147,
   "id": "0af40bb8-49cf-49c1-bd5c-3169bfbe300a",
   "metadata": {},
   "outputs": [],
   "source": [
    "import numpy as np\n",
    "import pandas as pd"
   ]
  },
  {
   "cell_type": "code",
   "execution_count": 148,
   "id": "96dca584-8cc3-4339-a27f-b6144d49c5f8",
   "metadata": {},
   "outputs": [],
   "source": [
    "retail = pd.read_csv(\"OnlineRetail.csv\")"
   ]
  },
  {
   "cell_type": "code",
   "execution_count": 149,
   "id": "e69939c1-538d-4cf9-b803-816012e74774",
   "metadata": {},
   "outputs": [],
   "source": [
    "features = [\"CustomerID\", \"Quantity\", \"InvoiceDate\"]"
   ]
  },
  {
   "cell_type": "code",
   "execution_count": 150,
   "id": "578b55eb-b5d4-4395-9840-2e567a269a54",
   "metadata": {},
   "outputs": [],
   "source": [
    "retail = retail.dropna(subset=features)"
   ]
  },
  {
   "cell_type": "code",
   "execution_count": 151,
   "id": "5fc1f4d4-2f35-4ef2-8418-d7cead434d07",
   "metadata": {},
   "outputs": [],
   "source": [
    "data = retail[features].copy()"
   ]
  },
  {
   "cell_type": "code",
   "execution_count": 152,
   "id": "9132a964-8785-49c0-a93d-45f7b146fbda",
   "metadata": {},
   "outputs": [],
   "source": [
    "data[\"InvoiceDate\"] = pd.to_datetime(data[\"InvoiceDate\"])\n",
    "data[\"InvoiceDate\"]= (data[\"InvoiceDate\"] - pd.Timestamp(\"1970-01-01\")) / pd.Timedelta(days=1)"
   ]
  },
  {
   "cell_type": "code",
   "execution_count": 153,
   "id": "743e50d2-e9d0-4c66-816d-1e82ffb41f09",
   "metadata": {},
   "outputs": [],
   "source": [
    "customer_summary = data.groupby(\"CustomerID\").agg({\"Quantity\":\"sum\", \"InvoiceDate\":[\"min\", \"max\", \"count\"]})\n",
    "customer_summary.columns = ['_'.join(col).strip() for col in customer_summary.columns.values]"
   ]
  },
  {
   "cell_type": "code",
   "execution_count": 154,
   "id": "392589e6-f76d-44f6-8bf4-49b95f3cf298",
   "metadata": {},
   "outputs": [
    {
     "data": {
      "text/html": [
       "<div>\n",
       "<style scoped>\n",
       "    .dataframe tbody tr th:only-of-type {\n",
       "        vertical-align: middle;\n",
       "    }\n",
       "\n",
       "    .dataframe tbody tr th {\n",
       "        vertical-align: top;\n",
       "    }\n",
       "\n",
       "    .dataframe thead th {\n",
       "        text-align: right;\n",
       "    }\n",
       "</style>\n",
       "<table border=\"1\" class=\"dataframe\">\n",
       "  <thead>\n",
       "    <tr style=\"text-align: right;\">\n",
       "      <th></th>\n",
       "      <th>Quantity_sum</th>\n",
       "      <th>InvoiceDate_min</th>\n",
       "      <th>InvoiceDate_max</th>\n",
       "      <th>InvoiceDate_count</th>\n",
       "    </tr>\n",
       "    <tr>\n",
       "      <th>CustomerID</th>\n",
       "      <th></th>\n",
       "      <th></th>\n",
       "      <th></th>\n",
       "      <th></th>\n",
       "    </tr>\n",
       "  </thead>\n",
       "  <tbody>\n",
       "    <tr>\n",
       "      <th>12346.0</th>\n",
       "      <td>0</td>\n",
       "      <td>14992.417361</td>\n",
       "      <td>14992.428472</td>\n",
       "      <td>2</td>\n",
       "    </tr>\n",
       "    <tr>\n",
       "      <th>12347.0</th>\n",
       "      <td>2458</td>\n",
       "      <td>14950.622917</td>\n",
       "      <td>15315.661111</td>\n",
       "      <td>182</td>\n",
       "    </tr>\n",
       "    <tr>\n",
       "      <th>12348.0</th>\n",
       "      <td>2341</td>\n",
       "      <td>14959.797917</td>\n",
       "      <td>15242.550694</td>\n",
       "      <td>31</td>\n",
       "    </tr>\n",
       "    <tr>\n",
       "      <th>12349.0</th>\n",
       "      <td>631</td>\n",
       "      <td>15299.410417</td>\n",
       "      <td>15299.410417</td>\n",
       "      <td>73</td>\n",
       "    </tr>\n",
       "    <tr>\n",
       "      <th>12350.0</th>\n",
       "      <td>197</td>\n",
       "      <td>15007.667361</td>\n",
       "      <td>15007.667361</td>\n",
       "      <td>17</td>\n",
       "    </tr>\n",
       "    <tr>\n",
       "      <th>...</th>\n",
       "      <td>...</td>\n",
       "      <td>...</td>\n",
       "      <td>...</td>\n",
       "      <td>...</td>\n",
       "    </tr>\n",
       "    <tr>\n",
       "      <th>18280.0</th>\n",
       "      <td>45</td>\n",
       "      <td>15040.411111</td>\n",
       "      <td>15040.411111</td>\n",
       "      <td>10</td>\n",
       "    </tr>\n",
       "    <tr>\n",
       "      <th>18281.0</th>\n",
       "      <td>54</td>\n",
       "      <td>15137.453472</td>\n",
       "      <td>15137.453472</td>\n",
       "      <td>7</td>\n",
       "    </tr>\n",
       "    <tr>\n",
       "      <th>18282.0</th>\n",
       "      <td>98</td>\n",
       "      <td>15191.565972</td>\n",
       "      <td>15310.488194</td>\n",
       "      <td>13</td>\n",
       "    </tr>\n",
       "    <tr>\n",
       "      <th>18283.0</th>\n",
       "      <td>1397</td>\n",
       "      <td>14980.593056</td>\n",
       "      <td>15314.501389</td>\n",
       "      <td>756</td>\n",
       "    </tr>\n",
       "    <tr>\n",
       "      <th>18287.0</th>\n",
       "      <td>1586</td>\n",
       "      <td>15116.443750</td>\n",
       "      <td>15275.395139</td>\n",
       "      <td>70</td>\n",
       "    </tr>\n",
       "  </tbody>\n",
       "</table>\n",
       "<p>4372 rows × 4 columns</p>\n",
       "</div>"
      ],
      "text/plain": [
       "            Quantity_sum  InvoiceDate_min  InvoiceDate_max  InvoiceDate_count\n",
       "CustomerID                                                                   \n",
       "12346.0                0     14992.417361     14992.428472                  2\n",
       "12347.0             2458     14950.622917     15315.661111                182\n",
       "12348.0             2341     14959.797917     15242.550694                 31\n",
       "12349.0              631     15299.410417     15299.410417                 73\n",
       "12350.0              197     15007.667361     15007.667361                 17\n",
       "...                  ...              ...              ...                ...\n",
       "18280.0               45     15040.411111     15040.411111                 10\n",
       "18281.0               54     15137.453472     15137.453472                  7\n",
       "18282.0               98     15191.565972     15310.488194                 13\n",
       "18283.0             1397     14980.593056     15314.501389                756\n",
       "18287.0             1586     15116.443750     15275.395139                 70\n",
       "\n",
       "[4372 rows x 4 columns]"
      ]
     },
     "execution_count": 154,
     "metadata": {},
     "output_type": "execute_result"
    }
   ],
   "source": [
    "customer_summary"
   ]
  },
  {
   "cell_type": "code",
   "execution_count": 155,
   "id": "3a702143-7397-40fb-8496-d1b0f97fe3c5",
   "metadata": {},
   "outputs": [],
   "source": [
    "data = ((data-data.min())/(data.max()-data.min()))* 99 + 1"
   ]
  },
  {
   "cell_type": "code",
   "execution_count": 156,
   "id": "11c80d84-2fbf-4f61-96d1-95827736dd26",
   "metadata": {},
   "outputs": [],
   "source": [
    "def random_centroids(data,k):\n",
    "    centroids=[]\n",
    "    for i in range(k):\n",
    "        centroid = data.apply(lambda x : float(x.sample(n=1, random_state = i).iloc[0]))\n",
    "        centroids.append(centroid)\n",
    "    return pd.concat(centroids, axis=1)"
   ]
  },
  {
   "cell_type": "code",
   "execution_count": 157,
   "id": "93a05287-97e0-4d20-a40c-1e0284cc5a08",
   "metadata": {},
   "outputs": [],
   "source": [
    "def get_labels(data,centroids):\n",
    "    distances = centroids.apply(lambda x : np.sqrt(((data - x) ** 2).sum(axis = 1)))  \n",
    "    return distances.idxmin(axis = 1)"
   ]
  },
  {
   "cell_type": "code",
   "execution_count": 158,
   "id": "5f14b756-ca7a-49c5-9e1f-11eb253b2e40",
   "metadata": {},
   "outputs": [],
   "source": [
    "def new_centroids(data,labels,k):\n",
    "    return data.groupby(labels).apply(lambda x : np.exp(np.log(x).mean())).T"
   ]
  },
  {
   "cell_type": "code",
   "execution_count": 159,
   "id": "1d7f45a8-e12c-484c-bb02-3c3ead981c2b",
   "metadata": {},
   "outputs": [],
   "source": [
    "from sklearn.decomposition import PCA\n",
    "import matplotlib.pyplot as plt\n",
    "from IPython.display import clear_output"
   ]
  },
  {
   "cell_type": "code",
   "execution_count": 160,
   "id": "40150f03-f6ac-4da9-8a20-81652669dd97",
   "metadata": {},
   "outputs": [],
   "source": [
    "def plot_clusters(data, labels, centroids, iteration):\n",
    "    pca = PCA(n_components = 2)\n",
    "    data_2d = pca.fit_transform(data)\n",
    "    centroid_2d = pca.transform(centroids.T)\n",
    "    clear_output(wait=True)\n",
    "    plt.title(f'Iter: {iteration}')\n",
    "    plt.scatter(x=data_2d[:,0], y=data_2d[:,1],c=labels)\n",
    "    plt.scatter(x=centroid_2d[:,0],y=centroid_2d[:,1])\n",
    "    plt.show()"
   ]
  },
  {
   "cell_type": "code",
   "execution_count": 161,
   "id": "117af526-1796-41bd-ac51-195cc9c6b53e",
   "metadata": {},
   "outputs": [],
   "source": [
    "cs = customer_summary"
   ]
  },
  {
   "cell_type": "code",
   "execution_count": 162,
   "id": "7789c6c8-d804-469a-b445-6a4e5b621e1e",
   "metadata": {},
   "outputs": [],
   "source": [
    "cs = ((cs - cs.min())/(cs.max()-cs.min())) * 99 + 1"
   ]
  },
  {
   "cell_type": "code",
   "execution_count": 163,
   "id": "2e6660a4-04cc-45ee-8715-7e533c80def0",
   "metadata": {},
   "outputs": [
    {
     "data": {
      "text/html": [
       "<div>\n",
       "<style scoped>\n",
       "    .dataframe tbody tr th:only-of-type {\n",
       "        vertical-align: middle;\n",
       "    }\n",
       "\n",
       "    .dataframe tbody tr th {\n",
       "        vertical-align: top;\n",
       "    }\n",
       "\n",
       "    .dataframe thead th {\n",
       "        text-align: right;\n",
       "    }\n",
       "</style>\n",
       "<table border=\"1\" class=\"dataframe\">\n",
       "  <thead>\n",
       "    <tr style=\"text-align: right;\">\n",
       "      <th></th>\n",
       "      <th>Quantity_sum</th>\n",
       "      <th>InvoiceDate_min</th>\n",
       "      <th>InvoiceDate_max</th>\n",
       "      <th>InvoiceDate_count</th>\n",
       "    </tr>\n",
       "  </thead>\n",
       "  <tbody>\n",
       "    <tr>\n",
       "      <th>count</th>\n",
       "      <td>4372.000000</td>\n",
       "      <td>4372.000000</td>\n",
       "      <td>4372.000000</td>\n",
       "      <td>4372.000000</td>\n",
       "    </tr>\n",
       "    <tr>\n",
       "      <th>mean</th>\n",
       "      <td>1.716210</td>\n",
       "      <td>40.235325</td>\n",
       "      <td>75.704441</td>\n",
       "      <td>2.141728</td>\n",
       "    </tr>\n",
       "    <tr>\n",
       "      <th>std</th>\n",
       "      <td>2.347993</td>\n",
       "      <td>31.408386</td>\n",
       "      <td>26.737353</td>\n",
       "      <td>2.883324</td>\n",
       "    </tr>\n",
       "    <tr>\n",
       "      <th>min</th>\n",
       "      <td>1.000000</td>\n",
       "      <td>1.000000</td>\n",
       "      <td>1.000000</td>\n",
       "      <td>1.000000</td>\n",
       "    </tr>\n",
       "    <tr>\n",
       "      <th>25%</th>\n",
       "      <td>1.229132</td>\n",
       "      <td>12.190031</td>\n",
       "      <td>62.085994</td>\n",
       "      <td>1.198447</td>\n",
       "    </tr>\n",
       "    <tr>\n",
       "      <th>50%</th>\n",
       "      <td>1.335658</td>\n",
       "      <td>32.942354</td>\n",
       "      <td>86.767958</td>\n",
       "      <td>1.508519</td>\n",
       "    </tr>\n",
       "    <tr>\n",
       "      <th>75%</th>\n",
       "      <td>1.635765</td>\n",
       "      <td>69.501192</td>\n",
       "      <td>95.717807</td>\n",
       "      <td>2.252694</td>\n",
       "    </tr>\n",
       "    <tr>\n",
       "      <th>max</th>\n",
       "      <td>100.000000</td>\n",
       "      <td>100.000000</td>\n",
       "      <td>100.000000</td>\n",
       "      <td>100.000000</td>\n",
       "    </tr>\n",
       "  </tbody>\n",
       "</table>\n",
       "</div>"
      ],
      "text/plain": [
       "       Quantity_sum  InvoiceDate_min  InvoiceDate_max  InvoiceDate_count\n",
       "count   4372.000000      4372.000000      4372.000000        4372.000000\n",
       "mean       1.716210        40.235325        75.704441           2.141728\n",
       "std        2.347993        31.408386        26.737353           2.883324\n",
       "min        1.000000         1.000000         1.000000           1.000000\n",
       "25%        1.229132        12.190031        62.085994           1.198447\n",
       "50%        1.335658        32.942354        86.767958           1.508519\n",
       "75%        1.635765        69.501192        95.717807           2.252694\n",
       "max      100.000000       100.000000       100.000000         100.000000"
      ]
     },
     "execution_count": 163,
     "metadata": {},
     "output_type": "execute_result"
    }
   ],
   "source": [
    "cs.describe()"
   ]
  },
  {
   "cell_type": "code",
   "execution_count": 164,
   "id": "7e5db0c0-e3b7-441d-a1da-5f2e2e750333",
   "metadata": {},
   "outputs": [],
   "source": [
    "from sklearn.cluster import KMeans\n",
    "import matplotlib.pyplot as plt\n",
    "\n",
    "def plot_elbow_curve(data, k_range=10):\n",
    "    inertia = []\n",
    "    k_values = list(range(1, k_range + 1))\n",
    "    \n",
    "    for k in k_values:\n",
    "        kmeans = KMeans(n_clusters=k, random_state=42)\n",
    "        kmeans.fit(data)\n",
    "        inertia.append(kmeans.inertia_)\n",
    "    \n",
    "    plt.figure(figsize=(8, 5))\n",
    "    plt.plot(k_values, inertia, marker='o')\n",
    "    plt.xlabel('Number of Clusters (k)')\n",
    "    plt.ylabel('Inertia (Within-Cluster Sum of Squares)')\n",
    "    plt.title('Elbow Method For Optimal k')\n",
    "    plt.xticks(k_values)\n",
    "    plt.grid(True)\n",
    "    plt.show()"
   ]
  },
  {
   "cell_type": "code",
   "execution_count": 165,
   "id": "152966ef-0b58-46bf-8040-a2084cec25c1",
   "metadata": {},
   "outputs": [
    {
     "data": {
      "image/png": "[encoded data removed]",
      "text/plain": [
       "<Figure size 800x500 with 1 Axes>"
      ]
     },
     "metadata": {},
     "output_type": "display_data"
    }
   ],
   "source": [
    "plot_elbow_curve(cs)"
   ]
  },
  {
   "cell_type": "code",
   "execution_count": 166,
   "id": "4e9dc57a-2fce-4073-b19c-fbf70eb5cc7d",
   "metadata": {},
   "outputs": [],
   "source": [
    "cs_centroids = random_centroids(cs,3)"
   ]
  },
  {
   "cell_type": "code",
   "execution_count": 167,
   "id": "9d5f82d7-68c3-4c02-83df-8441d70eafac",
   "metadata": {},
   "outputs": [],
   "source": [
    "cs_label = get_labels(cs, cs_centroids)"
   ]
  },
  {
   "cell_type": "code",
   "execution_count": 168,
   "id": "b04ee83a-34e2-469a-9dd2-f52083d57a55",
   "metadata": {},
   "outputs": [
    {
     "data": {
      "text/plain": [
       "1    2128\n",
       "0    1208\n",
       "2    1036\n",
       "Name: count, dtype: int64"
      ]
     },
     "execution_count": 168,
     "metadata": {},
     "output_type": "execute_result"
    }
   ],
   "source": [
    "cs_label.value_counts()"
   ]
  },
  {
   "cell_type": "code",
   "execution_count": 169,
   "id": "aa715ccd-25b1-4104-8ec5-b02d4e0fbc7c",
   "metadata": {},
   "outputs": [
    {
     "data": {
      "image/png": "[encoded data removed]",
      "text/plain": [
       "<Figure size 640x480 with 1 Axes>"
      ]
     },
     "metadata": {},
     "output_type": "display_data"
    }
   ],
   "source": [
    "max_iteration = 100\n",
    "k=3\n",
    "cs_centroids = random_centroids(cs,k)\n",
    "old_centroids = pd.DataFrame()\n",
    "iteration = 1\n",
    "while iteration < max_iteration and not cs_centroids.equals(old_centroids):\n",
    "    old_centroids = cs_centroids\n",
    "\n",
    "    cs_labels = get_labels(cs, cs_centroids)\n",
    "    cs_centroids =  new_centroids(cs,cs_labels,k)\n",
    "    plot_clusters(cs, cs_labels, cs_centroids, iteration)\n",
    "    iteration += 1"
   ]
  },
  {
   "cell_type": "code",
   "execution_count": 170,
   "id": "49d0be93-ef4c-452e-8026-db534022e9eb",
   "metadata": {},
   "outputs": [
    {
     "data": {
      "text/html": [
       "<div>\n",
       "<style scoped>\n",
       "    .dataframe tbody tr th:only-of-type {\n",
       "        vertical-align: middle;\n",
       "    }\n",
       "\n",
       "    .dataframe tbody tr th {\n",
       "        vertical-align: top;\n",
       "    }\n",
       "\n",
       "    .dataframe thead th {\n",
       "        text-align: right;\n",
       "    }\n",
       "</style>\n",
       "<table border=\"1\" class=\"dataframe\">\n",
       "  <thead>\n",
       "    <tr style=\"text-align: right;\">\n",
       "      <th></th>\n",
       "      <th>0</th>\n",
       "      <th>1</th>\n",
       "      <th>2</th>\n",
       "    </tr>\n",
       "  </thead>\n",
       "  <tbody>\n",
       "    <tr>\n",
       "      <th>Quantity_sum</th>\n",
       "      <td>1.854834</td>\n",
       "      <td>1.262336</td>\n",
       "      <td>1.365533</td>\n",
       "    </tr>\n",
       "    <tr>\n",
       "      <th>InvoiceDate_min</th>\n",
       "      <td>8.989647</td>\n",
       "      <td>13.896044</td>\n",
       "      <td>71.002866</td>\n",
       "    </tr>\n",
       "    <tr>\n",
       "      <th>InvoiceDate_max</th>\n",
       "      <td>88.575649</td>\n",
       "      <td>20.916808</td>\n",
       "      <td>83.900723</td>\n",
       "    </tr>\n",
       "    <tr>\n",
       "      <th>InvoiceDate_count</th>\n",
       "      <td>2.443249</td>\n",
       "      <td>1.280555</td>\n",
       "      <td>1.497564</td>\n",
       "    </tr>\n",
       "  </tbody>\n",
       "</table>\n",
       "</div>"
      ],
      "text/plain": [
       "                           0          1          2\n",
       "Quantity_sum        1.854834   1.262336   1.365533\n",
       "InvoiceDate_min     8.989647  13.896044  71.002866\n",
       "InvoiceDate_max    88.575649  20.916808  83.900723\n",
       "InvoiceDate_count   2.443249   1.280555   1.497564"
      ]
     },
     "execution_count": 170,
     "metadata": {},
     "output_type": "execute_result"
    }
   ],
   "source": [
    "cs_centroids"
   ]
  },
  {
   "cell_type": "code",
   "execution_count": 172,
   "id": "79b6e721-7aab-4046-b815-3296898b1888",
   "metadata": {},
   "outputs": [
    {
     "name": "stdout",
     "output_type": "stream",
     "text": [
      "                        PC1       PC2\n",
      "Quantity_sum      -0.004903  0.022455\n",
      "InvoiceDate_min    0.869517 -0.493032\n",
      "InvoiceDate_max    0.493835  0.868847\n",
      "InvoiceDate_count -0.006591  0.038992\n"
     ]
    }
   ],
   "source": [
    "from sklearn.decomposition import PCA\n",
    "pca = PCA(n_components=2)\n",
    "data_2d = pca.fit_transform(cs)\n",
    "loading = pd.DataFrame(pca.components_.T, index=cs.columns, columns=['PC1', 'PC2'])\n",
    "print(loading)"
   ]
  },
  {
   "cell_type": "code",
   "execution_count": null,
   "id": "e2b77dc3-956d-42ae-9699-e546c7e989d1",
   "metadata": {},
   "outputs": [],
   "source": []
  }
 ],
 "metadata": {
  "kernelspec": {
   "display_name": "Python 3 (ipykernel)",
   "language": "python",
   "name": "python3"
  },
  "language_info": {
   "codemirror_mode": {
    "name": "ipython",
    "version": 3
   },
   "file_extension": ".py",
   "mimetype": "text/x-python",
   "name": "python",
   "nbconvert_exporter": "python",
   "pygments_lexer": "ipython3",
   "version": "3.12.7"
  }
 },
 "nbformat": 4,
 "nbformat_minor": 5
}
